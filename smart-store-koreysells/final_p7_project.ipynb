{
 "cells": [
  {
   "cell_type": "code",
   "execution_count": 1,
   "id": "ad1c6128",
   "metadata": {},
   "outputs": [],
   "source": [
    "# P7 Final Custom BI Project\n",
    "# Korey Sansone\n",
    "\n",
    "import pandas as pd\n",
    "import matplotlib.pyplot as plt\n",
    "import seaborn as sns"
   ]
  },
  {
   "cell_type": "code",
   "execution_count": 7,
   "id": "37608f84",
   "metadata": {},
   "outputs": [
    {
     "data": {
      "text/html": [
       "<div>\n",
       "<style scoped>\n",
       "    .dataframe tbody tr th:only-of-type {\n",
       "        vertical-align: middle;\n",
       "    }\n",
       "\n",
       "    .dataframe tbody tr th {\n",
       "        vertical-align: top;\n",
       "    }\n",
       "\n",
       "    .dataframe thead th {\n",
       "        text-align: right;\n",
       "    }\n",
       "</style>\n",
       "<table border=\"1\" class=\"dataframe\">\n",
       "  <thead>\n",
       "    <tr style=\"text-align: right;\">\n",
       "      <th></th>\n",
       "      <th>name</th>\n",
       "    </tr>\n",
       "  </thead>\n",
       "  <tbody>\n",
       "  </tbody>\n",
       "</table>\n",
       "</div>"
      ],
      "text/plain": [
       "Empty DataFrame\n",
       "Columns: [name]\n",
       "Index: []"
      ]
     },
     "execution_count": 7,
     "metadata": {},
     "output_type": "execute_result"
    }
   ],
   "source": [
    "import sqlite3\n",
    "import pandas as pd\n",
    "\n",
    "# Connect to database\n",
    "conn = sqlite3.connect('smart_sales.db')\n",
    "\n",
    "# Check table names\n",
    "query = \"SELECT name FROM sqlite_master WHERE type='table';\"\n",
    "tables = pd.read_sql_query(query, conn)\n",
    "tables"
   ]
  },
  {
   "cell_type": "code",
   "execution_count": 11,
   "id": "1125b9af",
   "metadata": {},
   "outputs": [
    {
     "data": {
      "text/html": [
       "<div>\n",
       "<style scoped>\n",
       "    .dataframe tbody tr th:only-of-type {\n",
       "        vertical-align: middle;\n",
       "    }\n",
       "\n",
       "    .dataframe tbody tr th {\n",
       "        vertical-align: top;\n",
       "    }\n",
       "\n",
       "    .dataframe thead th {\n",
       "        text-align: right;\n",
       "    }\n",
       "</style>\n",
       "<table border=\"1\" class=\"dataframe\">\n",
       "  <thead>\n",
       "    <tr style=\"text-align: right;\">\n",
       "      <th></th>\n",
       "      <th>transactionid</th>\n",
       "      <th>saledate</th>\n",
       "      <th>customerid</th>\n",
       "      <th>productid</th>\n",
       "      <th>storeid</th>\n",
       "      <th>campaignid</th>\n",
       "      <th>saleamount</th>\n",
       "      <th>discountpercent</th>\n",
       "      <th>paymenttype</th>\n",
       "    </tr>\n",
       "  </thead>\n",
       "  <tbody>\n",
       "    <tr>\n",
       "      <th>0</th>\n",
       "      <td>550</td>\n",
       "      <td>1/6/2024</td>\n",
       "      <td>1008</td>\n",
       "      <td>102</td>\n",
       "      <td>404</td>\n",
       "      <td>0</td>\n",
       "      <td>39.10</td>\n",
       "      <td>5.0</td>\n",
       "      <td>Credit</td>\n",
       "    </tr>\n",
       "    <tr>\n",
       "      <th>1</th>\n",
       "      <td>551</td>\n",
       "      <td>1/6/2024</td>\n",
       "      <td>1009</td>\n",
       "      <td>105</td>\n",
       "      <td>403</td>\n",
       "      <td>0</td>\n",
       "      <td>19.78</td>\n",
       "      <td>10.0</td>\n",
       "      <td>Cash</td>\n",
       "    </tr>\n",
       "    <tr>\n",
       "      <th>2</th>\n",
       "      <td>552</td>\n",
       "      <td>1/16/2024</td>\n",
       "      <td>1004</td>\n",
       "      <td>107</td>\n",
       "      <td>404</td>\n",
       "      <td>0</td>\n",
       "      <td>335.10</td>\n",
       "      <td>5.0</td>\n",
       "      <td>Credit</td>\n",
       "    </tr>\n",
       "    <tr>\n",
       "      <th>3</th>\n",
       "      <td>553</td>\n",
       "      <td>1/16/2024</td>\n",
       "      <td>1006</td>\n",
       "      <td>102</td>\n",
       "      <td>406</td>\n",
       "      <td>0</td>\n",
       "      <td>195.50</td>\n",
       "      <td>5.0</td>\n",
       "      <td>Credit</td>\n",
       "    </tr>\n",
       "    <tr>\n",
       "      <th>4</th>\n",
       "      <td>554</td>\n",
       "      <td>1/25/2024</td>\n",
       "      <td>1005</td>\n",
       "      <td>102</td>\n",
       "      <td>405</td>\n",
       "      <td>0</td>\n",
       "      <td>117.30</td>\n",
       "      <td>5.0</td>\n",
       "      <td>Credit</td>\n",
       "    </tr>\n",
       "  </tbody>\n",
       "</table>\n",
       "</div>"
      ],
      "text/plain": [
       "   transactionid   saledate  customerid  productid  storeid  campaignid  \\\n",
       "0            550   1/6/2024        1008        102      404           0   \n",
       "1            551   1/6/2024        1009        105      403           0   \n",
       "2            552  1/16/2024        1004        107      404           0   \n",
       "3            553  1/16/2024        1006        102      406           0   \n",
       "4            554  1/25/2024        1005        102      405           0   \n",
       "\n",
       "   saleamount  discountpercent paymenttype  \n",
       "0       39.10              5.0      Credit  \n",
       "1       19.78             10.0        Cash  \n",
       "2      335.10              5.0      Credit  \n",
       "3      195.50              5.0      Credit  \n",
       "4      117.30              5.0      Credit  "
      ]
     },
     "execution_count": 11,
     "metadata": {},
     "output_type": "execute_result"
    }
   ],
   "source": [
    "# Load the prepared sales data\n",
    "import pandas as pd\n",
    "\n",
    "sales_df = pd.read_csv('data/prepared/sales_data_prepared.csv')\n",
    "\n",
    "# Show the first few rows to verify\n",
    "sales_df.head()"
   ]
  },
  {
   "cell_type": "code",
   "execution_count": 13,
   "id": "e78810cc",
   "metadata": {},
   "outputs": [
    {
     "data": {
      "text/html": [
       "<div>\n",
       "<style scoped>\n",
       "    .dataframe tbody tr th:only-of-type {\n",
       "        vertical-align: middle;\n",
       "    }\n",
       "\n",
       "    .dataframe tbody tr th {\n",
       "        vertical-align: top;\n",
       "    }\n",
       "\n",
       "    .dataframe thead th {\n",
       "        text-align: right;\n",
       "    }\n",
       "</style>\n",
       "<table border=\"1\" class=\"dataframe\">\n",
       "  <thead>\n",
       "    <tr style=\"text-align: right;\">\n",
       "      <th></th>\n",
       "      <th>productid</th>\n",
       "      <th>saleamount</th>\n",
       "    </tr>\n",
       "  </thead>\n",
       "  <tbody>\n",
       "    <tr>\n",
       "      <th>0</th>\n",
       "      <td>101</td>\n",
       "      <td>88829.44</td>\n",
       "    </tr>\n",
       "    <tr>\n",
       "      <th>6</th>\n",
       "      <td>107</td>\n",
       "      <td>7037.10</td>\n",
       "    </tr>\n",
       "    <tr>\n",
       "      <th>5</th>\n",
       "      <td>106</td>\n",
       "      <td>4182.06</td>\n",
       "    </tr>\n",
       "    <tr>\n",
       "      <th>3</th>\n",
       "      <td>104</td>\n",
       "      <td>4008.30</td>\n",
       "    </tr>\n",
       "    <tr>\n",
       "      <th>1</th>\n",
       "      <td>102</td>\n",
       "      <td>2111.40</td>\n",
       "    </tr>\n",
       "  </tbody>\n",
       "</table>\n",
       "</div>"
      ],
      "text/plain": [
       "   productid  saleamount\n",
       "0        101    88829.44\n",
       "6        107     7037.10\n",
       "5        106     4182.06\n",
       "3        104     4008.30\n",
       "1        102     2111.40"
      ]
     },
     "execution_count": 13,
     "metadata": {},
     "output_type": "execute_result"
    }
   ],
   "source": [
    "# Analyze: Total Sales Amount by Product\n",
    "product_sales = sales_df.groupby('productid')['saleamount'].sum().reset_index().sort_values(by='saleamount', ascending=False)\n",
    "product_sales.head()"
   ]
  },
  {
   "cell_type": "code",
   "execution_count": 14,
   "id": "563bcc8d",
   "metadata": {},
   "outputs": [
    {
     "data": {
      "image/png": "[encoded data removed]",
      "text/plain": [
       "<Figure size 1000x600 with 1 Axes>"
      ]
     },
     "metadata": {},
     "output_type": "display_data"
    }
   ],
   "source": [
    "# Visualize: Total Sales Amount by Product\n",
    "import matplotlib.pyplot as plt\n",
    "\n",
    "plt.figure(figsize=(10, 6))\n",
    "plt.bar(product_sales['productid'].astype(str), product_sales['saleamount'])\n",
    "plt.xlabel('Product ID')\n",
    "plt.ylabel('Total Sale Amount')\n",
    "plt.title('Total Sales Amount by Product')\n",
    "plt.xticks(rotation=45)\n",
    "plt.tight_layout()\n",
    "plt.show()"
   ]
  },
  {
   "cell_type": "code",
   "execution_count": 15,
   "id": "71c9edf2",
   "metadata": {},
   "outputs": [
    {
     "data": {
      "text/html": [
       "<div>\n",
       "<style scoped>\n",
       "    .dataframe tbody tr th:only-of-type {\n",
       "        vertical-align: middle;\n",
       "    }\n",
       "\n",
       "    .dataframe tbody tr th {\n",
       "        vertical-align: top;\n",
       "    }\n",
       "\n",
       "    .dataframe thead th {\n",
       "        text-align: right;\n",
       "    }\n",
       "</style>\n",
       "<table border=\"1\" class=\"dataframe\">\n",
       "  <thead>\n",
       "    <tr style=\"text-align: right;\">\n",
       "      <th></th>\n",
       "      <th>paymenttype</th>\n",
       "      <th>discountpercent</th>\n",
       "    </tr>\n",
       "  </thead>\n",
       "  <tbody>\n",
       "    <tr>\n",
       "      <th>7</th>\n",
       "      <td>PayPal</td>\n",
       "      <td>1.693340e+06</td>\n",
       "    </tr>\n",
       "    <tr>\n",
       "      <th>1</th>\n",
       "      <td>Casdh</td>\n",
       "      <td>2.000000e+01</td>\n",
       "    </tr>\n",
       "    <tr>\n",
       "      <th>3</th>\n",
       "      <td>Cashcash</td>\n",
       "      <td>1.500000e+01</td>\n",
       "    </tr>\n",
       "    <tr>\n",
       "      <th>5</th>\n",
       "      <td>CreditCard</td>\n",
       "      <td>1.166667e+01</td>\n",
       "    </tr>\n",
       "    <tr>\n",
       "      <th>2</th>\n",
       "      <td>Cash</td>\n",
       "      <td>1.004800e+01</td>\n",
       "    </tr>\n",
       "  </tbody>\n",
       "</table>\n",
       "</div>"
      ],
      "text/plain": [
       "  paymenttype  discountpercent\n",
       "7      PayPal     1.693340e+06\n",
       "1       Casdh     2.000000e+01\n",
       "3    Cashcash     1.500000e+01\n",
       "5  CreditCard     1.166667e+01\n",
       "2        Cash     1.004800e+01"
      ]
     },
     "execution_count": 15,
     "metadata": {},
     "output_type": "execute_result"
    }
   ],
   "source": [
    "# Analyze: Average Discount Percent by Payment Type\n",
    "discount_payment = sales_df.groupby('paymenttype')['discountpercent'].mean().reset_index().sort_values(by='discountpercent', ascending=False)\n",
    "discount_payment.head()"
   ]
  },
  {
   "cell_type": "code",
   "execution_count": 16,
   "id": "90f6a7ff",
   "metadata": {},
   "outputs": [
    {
     "data": {
      "image/png": "[encoded data removed]",
      "text/plain": [
       "<Figure size 1000x600 with 1 Axes>"
      ]
     },
     "metadata": {},
     "output_type": "display_data"
    }
   ],
   "source": [
    "# Visualize: Average Discount Percent by Payment Type\n",
    "import matplotlib.pyplot as plt\n",
    "\n",
    "plt.figure(figsize=(10,6))\n",
    "plt.bar(discount_payment['paymenttype'], discount_payment['discountpercent'])\n",
    "plt.xlabel('Payment Type')\n",
    "plt.ylabel('Average Discount Percent')\n",
    "plt.title('Average Discount Percent by Payment Type')\n",
    "plt.show()"
   ]
  },
  {
   "cell_type": "code",
   "execution_count": 17,
   "id": "80cda701",
   "metadata": {},
   "outputs": [
    {
     "data": {
      "text/html": [
       "<div>\n",
       "<style scoped>\n",
       "    .dataframe tbody tr th:only-of-type {\n",
       "        vertical-align: middle;\n",
       "    }\n",
       "\n",
       "    .dataframe tbody tr th {\n",
       "        vertical-align: top;\n",
       "    }\n",
       "\n",
       "    .dataframe thead th {\n",
       "        text-align: right;\n",
       "    }\n",
       "</style>\n",
       "<table border=\"1\" class=\"dataframe\">\n",
       "  <thead>\n",
       "    <tr style=\"text-align: right;\">\n",
       "      <th></th>\n",
       "      <th>storeid</th>\n",
       "      <th>saleamount</th>\n",
       "    </tr>\n",
       "  </thead>\n",
       "  <tbody>\n",
       "    <tr>\n",
       "      <th>0</th>\n",
       "      <td>401</td>\n",
       "      <td>1805.747778</td>\n",
       "    </tr>\n",
       "    <tr>\n",
       "      <th>1</th>\n",
       "      <td>402</td>\n",
       "      <td>1512.849000</td>\n",
       "    </tr>\n",
       "    <tr>\n",
       "      <th>3</th>\n",
       "      <td>404</td>\n",
       "      <td>1335.898000</td>\n",
       "    </tr>\n",
       "    <tr>\n",
       "      <th>5</th>\n",
       "      <td>406</td>\n",
       "      <td>976.318333</td>\n",
       "    </tr>\n",
       "    <tr>\n",
       "      <th>4</th>\n",
       "      <td>405</td>\n",
       "      <td>853.651579</td>\n",
       "    </tr>\n",
       "  </tbody>\n",
       "</table>\n",
       "</div>"
      ],
      "text/plain": [
       "   storeid   saleamount\n",
       "0      401  1805.747778\n",
       "1      402  1512.849000\n",
       "3      404  1335.898000\n",
       "5      406   976.318333\n",
       "4      405   853.651579"
      ]
     },
     "execution_count": 17,
     "metadata": {},
     "output_type": "execute_result"
    }
   ],
   "source": [
    "# Analyze: Average Sale Amount by Store\n",
    "store_sales = sales_df.groupby('storeid')['saleamount'].mean().reset_index().sort_values(by='saleamount', ascending=False)\n",
    "store_sales.head()"
   ]
  },
  {
   "cell_type": "code",
   "execution_count": 18,
   "id": "ca0fea68",
   "metadata": {},
   "outputs": [
    {
     "data": {
      "image/png": "[encoded data removed]",
      "text/plain": [
       "<Figure size 1000x600 with 1 Axes>"
      ]
     },
     "metadata": {},
     "output_type": "display_data"
    }
   ],
   "source": [
    "# Visualize: Average Sale Amount by Store\n",
    "import seaborn as sns\n",
    "import matplotlib.pyplot as plt\n",
    "\n",
    "plt.figure(figsize=(10, 6))\n",
    "sns.barplot(data=store_sales, x='storeid', y='saleamount')\n",
    "plt.title('Average Sale Amount by Store')\n",
    "plt.xlabel('Store ID')\n",
    "plt.ylabel('Average Sale Amount')\n",
    "plt.xticks(rotation=45)\n",
    "plt.show()"
   ]
  },
  {
   "cell_type": "code",
   "execution_count": 19,
   "id": "dd63c2a2",
   "metadata": {},
   "outputs": [
    {
     "data": {
      "text/html": [
       "<div>\n",
       "<style scoped>\n",
       "    .dataframe tbody tr th:only-of-type {\n",
       "        vertical-align: middle;\n",
       "    }\n",
       "\n",
       "    .dataframe tbody tr th {\n",
       "        vertical-align: top;\n",
       "    }\n",
       "\n",
       "    .dataframe thead th {\n",
       "        text-align: right;\n",
       "    }\n",
       "</style>\n",
       "<table border=\"1\" class=\"dataframe\">\n",
       "  <thead>\n",
       "    <tr style=\"text-align: right;\">\n",
       "      <th></th>\n",
       "      <th>campaignid</th>\n",
       "      <th>saleamount</th>\n",
       "    </tr>\n",
       "  </thead>\n",
       "  <tbody>\n",
       "    <tr>\n",
       "      <th>0</th>\n",
       "      <td>0</td>\n",
       "      <td>80046.94</td>\n",
       "    </tr>\n",
       "    <tr>\n",
       "      <th>1</th>\n",
       "      <td>1</td>\n",
       "      <td>10453.82</td>\n",
       "    </tr>\n",
       "    <tr>\n",
       "      <th>3</th>\n",
       "      <td>3</td>\n",
       "      <td>9224.72</td>\n",
       "    </tr>\n",
       "    <tr>\n",
       "      <th>2</th>\n",
       "      <td>2</td>\n",
       "      <td>8562.78</td>\n",
       "    </tr>\n",
       "  </tbody>\n",
       "</table>\n",
       "</div>"
      ],
      "text/plain": [
       "   campaignid  saleamount\n",
       "0           0    80046.94\n",
       "1           1    10453.82\n",
       "3           3     9224.72\n",
       "2           2     8562.78"
      ]
     },
     "execution_count": 19,
     "metadata": {},
     "output_type": "execute_result"
    }
   ],
   "source": [
    "# Analyze: Total Sales Amount by Campaign\n",
    "campaign_sales = sales_df.groupby('campaignid')['saleamount'].sum().reset_index().sort_values(by='saleamount', ascending=False)\n",
    "campaign_sales.head()"
   ]
  },
  {
   "cell_type": "code",
   "execution_count": 20,
   "id": "d7b952fb",
   "metadata": {},
   "outputs": [
    {
     "data": {
      "image/png": "[encoded data removed]",
      "text/plain": [
       "<Figure size 1000x600 with 1 Axes>"
      ]
     },
     "metadata": {},
     "output_type": "display_data"
    }
   ],
   "source": [
    "# Visualize: Total Sales Amount by Campaign\n",
    "import seaborn as sns\n",
    "import matplotlib.pyplot as plt\n",
    "\n",
    "plt.figure(figsize=(10,6))\n",
    "sns.barplot(data=campaign_sales, x='campaignid', y='saleamount')\n",
    "plt.title('Total Sales Amount by Campaign')\n",
    "plt.xlabel('Campaign ID')\n",
    "plt.ylabel('Total Sales Amount')\n",
    "plt.xticks(rotation=45)\n",
    "plt.show()"
   ]
  },
  {
   "cell_type": "code",
   "execution_count": 21,
   "id": "0f4d89b2",
   "metadata": {},
   "outputs": [
    {
     "data": {
      "text/html": [
       "<div>\n",
       "<style scoped>\n",
       "    .dataframe tbody tr th:only-of-type {\n",
       "        vertical-align: middle;\n",
       "    }\n",
       "\n",
       "    .dataframe tbody tr th {\n",
       "        vertical-align: top;\n",
       "    }\n",
       "\n",
       "    .dataframe thead th {\n",
       "        text-align: right;\n",
       "    }\n",
       "</style>\n",
       "<table border=\"1\" class=\"dataframe\">\n",
       "  <thead>\n",
       "    <tr style=\"text-align: right;\">\n",
       "      <th></th>\n",
       "      <th>paymenttype</th>\n",
       "      <th>saleamount</th>\n",
       "    </tr>\n",
       "  </thead>\n",
       "  <tbody>\n",
       "    <tr>\n",
       "      <th>2</th>\n",
       "      <td>Cash</td>\n",
       "      <td>33876.20</td>\n",
       "    </tr>\n",
       "    <tr>\n",
       "      <th>7</th>\n",
       "      <td>PayPal</td>\n",
       "      <td>30129.96</td>\n",
       "    </tr>\n",
       "    <tr>\n",
       "      <th>5</th>\n",
       "      <td>CreditCard</td>\n",
       "      <td>27320.32</td>\n",
       "    </tr>\n",
       "    <tr>\n",
       "      <th>6</th>\n",
       "      <td>PayP3al</td>\n",
       "      <td>7931.20</td>\n",
       "    </tr>\n",
       "    <tr>\n",
       "      <th>4</th>\n",
       "      <td>Credit</td>\n",
       "      <td>7765.26</td>\n",
       "    </tr>\n",
       "  </tbody>\n",
       "</table>\n",
       "</div>"
      ],
      "text/plain": [
       "  paymenttype  saleamount\n",
       "2        Cash    33876.20\n",
       "7      PayPal    30129.96\n",
       "5  CreditCard    27320.32\n",
       "6     PayP3al     7931.20\n",
       "4      Credit     7765.26"
      ]
     },
     "execution_count": 21,
     "metadata": {},
     "output_type": "execute_result"
    }
   ],
   "source": [
    "# Analyze: Total Sales Amount by Payment Type\n",
    "payment_sales = sales_df.groupby('paymenttype')['saleamount'].sum().reset_index().sort_values(by='saleamount', ascending=False)\n",
    "payment_sales.head()"
   ]
  },
  {
   "cell_type": "code",
   "execution_count": 22,
   "id": "349c3130",
   "metadata": {},
   "outputs": [
    {
     "data": {
      "image/png": "[encoded data removed]",
      "text/plain": [
       "<Figure size 640x480 with 1 Axes>"
      ]
     },
     "metadata": {},
     "output_type": "display_data"
    }
   ],
   "source": [
    "# Visualize: Total Sales Amount by Payment Type\n",
    "import matplotlib.pyplot as plt\n",
    "\n",
    "plt.bar(payment_sales['paymenttype'], payment_sales['saleamount'])\n",
    "plt.title('Total Sales Amount by Payment Type')\n",
    "plt.xlabel('Payment Type')\n",
    "plt.ylabel('Total Sales Amount')\n",
    "plt.xticks(rotation=45)\n",
    "plt.show()"
   ]
  },
  {
   "cell_type": "code",
   "execution_count": 25,
   "id": "12f40841",
   "metadata": {},
   "outputs": [
    {
     "data": {
      "text/plain": [
       "<Figure size 640x480 with 0 Axes>"
      ]
     },
     "metadata": {},
     "output_type": "display_data"
    },
    {
     "data": {
      "text/plain": [
       "<Figure size 640x480 with 0 Axes>"
      ]
     },
     "metadata": {},
     "output_type": "display_data"
    },
    {
     "data": {
      "text/plain": [
       "<Figure size 640x480 with 0 Axes>"
      ]
     },
     "metadata": {},
     "output_type": "display_data"
    },
    {
     "data": {
      "text/plain": [
       "<Figure size 640x480 with 0 Axes>"
      ]
     },
     "metadata": {},
     "output_type": "display_data"
    },
    {
     "data": {
      "text/plain": [
       "<Figure size 640x480 with 0 Axes>"
      ]
     },
     "metadata": {},
     "output_type": "display_data"
    }
   ],
   "source": [
    "import os\n",
    "os.makedirs('OLAP', exist_ok=True)\n",
    "\n",
    "# Save all key plots to the 'OLAP' folder\n",
    "product_sales.plot(kind='bar', x='productid', y='saleamount', title='Total Sales Amount by Product', legend=False)\n",
    "plt.ylabel('Total Sales Amount')\n",
    "plt.tight_layout()\n",
    "plt.savefig('OLAP/p6c_total_sales_by_product.png')\n",
    "plt.clf()\n",
    "\n",
    "discount_payment.plot(kind='bar', x='paymenttype', y='discountpercent', title='Average Discount Percent by Payment Type', legend=False)\n",
    "plt.ylabel('Average Discount Percent')\n",
    "plt.tight_layout()\n",
    "plt.savefig('OLAP/p6c_avg_discount_by_payment.png')\n",
    "plt.clf()\n",
    "\n",
    "store_sales.plot(kind='bar', x='storeid', y='saleamount', title='Average Sale Amount by Store', legend=False)\n",
    "plt.ylabel('Average Sale Amount')\n",
    "plt.tight_layout()\n",
    "plt.savefig('OLAP/p6c_avg_sale_by_store.png')\n",
    "plt.clf()\n",
    "\n",
    "campaign_sales.plot(kind='bar', x='campaignid', y='saleamount', title='Total Sales Amount by Campaign', legend=False)\n",
    "plt.ylabel('Total Sales Amount')\n",
    "plt.tight_layout()\n",
    "plt.savefig('OLAP/p6c_total_sales_by_campaign.png')\n",
    "plt.clf()\n",
    "\n",
    "payment_sales.plot(kind='bar', x='paymenttype', y='saleamount', title='Total Sales Amount by Payment Type', legend=False)\n",
    "plt.ylabel('Total Sales Amount')\n",
    "plt.tight_layout()\n",
    "plt.savefig('OLAP/p6c_total_sales_by_payment.png')\n",
    "plt.clf()"
   ]
  }
 ],
 "metadata": {
  "kernelspec": {
   "display_name": ".venv",
   "language": "python",
   "name": "python3"
  },
  "language_info": {
   "codemirror_mode": {
    "name": "ipython",
    "version": 3
   },
   "file_extension": ".py",
   "mimetype": "text/x-python",
   "name": "python",
   "nbconvert_exporter": "python",
   "pygments_lexer": "ipython3",
   "version": "3.13.2"
  }
 },
 "nbformat": 4,
 "nbformat_minor": 5
}
